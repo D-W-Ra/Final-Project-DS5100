{
 "cells": [
  {
   "cell_type": "markdown",
   "id": "45762487-d33f-486d-8e38-2cdea04e3528",
   "metadata": {},
   "source": [
    "# Final Project Report\n",
    "\n",
    "* Class: DS 5100\n",
    "* Student Name: Daniel Ra\n",
    "* Student Net ID: wr9cn\n",
    "* This URL: https://github.com/D-W-Ra/Final-Project-DS5100/blob/main/DS51200_FinalProjectTemplate.ipynb"
   ]
  },
  {
   "cell_type": "markdown",
   "id": "acf756c1-ecaa-41dc-b6ca-d566eb94560b",
   "metadata": {},
   "source": [
    "# Instructions\n",
    "\n",
    "Follow the instructions in the Final Project isntructions notebook and put evidence of your work in this notebook.\n",
    "\n",
    "Total points for each subsection under **Deliverables** and **Scenarios** are given in parentheses.\n",
    "\n",
    "Breakdowns of points within subsections are specified within subsection instructions as bulleted lists.\n",
    "\n",
    "This project is worth **50 points**."
   ]
  },
  {
   "cell_type": "markdown",
   "id": "89dc7a32-f682-4402-8c1e-b6ccdb3e0e39",
   "metadata": {},
   "source": [
    "# Deliverables"
   ]
  },
  {
   "cell_type": "markdown",
   "id": "d32cb273-9a40-4909-a7ce-51f6e4958d3c",
   "metadata": {},
   "source": [
    "## The Monte Carlo Module (10)\n",
    "\n",
    "- URL included, appropriately named (1).\n",
    "- Includes all three specified classes (3).\n",
    "- Includes at least all 12 specified methods (6; .5 each)."
   ]
  },
  {
   "cell_type": "markdown",
   "id": "f5f3b070-de9e-4de9-bfae-8974d184aa28",
   "metadata": {},
   "source": [
    "Put the URL to your GitHub repo here.\n",
    "\n",
    "Repo URL: https://github.com/D-W-Ra/Final-Project-DS5100#"
   ]
  },
  {
   "cell_type": "markdown",
   "id": "162370fb-3729-4c85-b040-8c25b2c966d2",
   "metadata": {},
   "source": [
    "Paste a copyy of your module here.\n",
    "\n",
    "NOTE: Paste as text, not as code. Use triple backticks to wrap your code blocks."
   ]
  },
  {
   "cell_type": "markdown",
   "id": "346cd5d5-900c-491b-b342-51eac2cce928",
   "metadata": {},
   "source": [
    "```\n",
    "import numpy as np\n",
    "import pandas as pd\n",
    "\n",
    "class Die:\n",
    "    \"\"\"\n",
    "    A die has N sides or faces\n",
    "    Faces can be strings or numbers\n",
    "    Weights default to 1.0 but can be changed after initialization\n",
    "    \n",
    "    Attributes:\n",
    "        _die (DataFrame): Private dataframe with faces and weights\n",
    "    \"\"\"\n",
    "    \n",
    "    def __init__(self, faces):\n",
    "        \"\"\"\n",
    "        Initialize a die with faces and default weights of 1.0\n",
    "\n",
    "        Args:\n",
    "            faces (numpy.ndarray): Array of distinct face values (numeric/strings)\n",
    "        \n",
    "        Raises:\n",
    "            TypeError: If faces is not a numpy array\n",
    "            ValueError: If faces are not distinct\n",
    "        \"\"\"\n",
    "        if not isinstance(faces, np.ndarray):\n",
    "            raise TypeError(\"Faces must be a NumPy array!\")\n",
    "        \n",
    "        if len(np.unique(faces)) != len(faces):\n",
    "            raise ValueError(\"Faces must be distinct!\")\n",
    "        \n",
    "        self._die = pd.DataFrame({\n",
    "            'face': faces,\n",
    "            'weight': np.ones(len(faces))\n",
    "        }).set_index('face')\n",
    "\n",
    "    def change_weight(self, face, weight):\n",
    "        \"\"\"\n",
    "        Change the weight of a single face.\n",
    "\n",
    "        Args:\n",
    "            face (str/number): Face value to change\n",
    "            weight (float/integer): New weight (must be numeric and not negative)\n",
    "        \n",
    "        Raises:\n",
    "            IndexError: When face is not found\n",
    "            TypeError: When weight is not numeric (integer/float)\n",
    "        \"\"\"\n",
    "        if face not in self._die.index:\n",
    "            raise IndexError(\"Face not found in die!\")\n",
    "        \n",
    "        try:\n",
    "            weight = float(weight)\n",
    "        except ValueError:\n",
    "            raise TypeError(\"Weight must be numeric or castable to float!\")\n",
    "        \n",
    "        self._die.at[face, 'weight'] = weight\n",
    "\n",
    "    def roll(self, num_rolls=1):\n",
    "        \"\"\"\n",
    "        Roll the die a given number of times.\n",
    "\n",
    "        Args:\n",
    "            num_rolls (int): Number of rolls (default 1)\n",
    "        \n",
    "        Returns:\n",
    "            list: Outcomes of rolls\n",
    "        \"\"\"\n",
    "        outcomes = self._die.sample(\n",
    "            n=num_rolls, \n",
    "            weights=self._die['weight'], \n",
    "            replace=True\n",
    "        ).index.tolist()\n",
    "        return outcomes\n",
    "\n",
    "    def show(self):\n",
    "        \"\"\"\n",
    "        Show the die's current faces and weights\n",
    "\n",
    "        Returns:\n",
    "            pandas.DataFrame: Copy of die's faces and weights\n",
    "        \"\"\"\n",
    "        return self._die.copy()\n",
    "```"
   ]
  },
  {
   "cell_type": "markdown",
   "id": "8390c35b-3d60-4457-9ff3-753e68bf81d0",
   "metadata": {},
   "source": [
    "```\n",
    "import pandas as pd\n",
    "\n",
    "class Game:\n",
    "    \"\"\"\n",
    "    A game consists of rolling one or multiple dice of the same kind multiple times\n",
    "    \n",
    "    Attributes:\n",
    "        _dice (list): List of Die objects\n",
    "        _play_results (DataFrame): Private dataframe storing the results of the most recent play\n",
    "    \"\"\"\n",
    "    \n",
    "    def __init__(self, dice):\n",
    "        \"\"\"\n",
    "        Initialize the Game with a list of dice\n",
    "\n",
    "        Args:\n",
    "            dice (list): A list containing one or more Die objects\n",
    "        \"\"\"\n",
    "        self._dice = dice\n",
    "        self._play_results = None\n",
    "\n",
    "    def play(self, num_rolls):\n",
    "        \"\"\"\n",
    "        Play the game by rolling all dice a given number of times\n",
    "\n",
    "        Args:\n",
    "            num_rolls (int): Number of times to roll the dice\n",
    "        Saves:\n",
    "            _play_results (DataFrame): Roll results with wide format\n",
    "        \"\"\"\n",
    "        results = {}\n",
    "\n",
    "        for i, die in enumerate(self._dice):\n",
    "            results[i] = die.roll(num_rolls)\n",
    "\n",
    "        self._play_results = pd.DataFrame(results)\n",
    "        self._play_results.index.name = 'roll_number'\n",
    "\n",
    "    def show(self, form='wide'):\n",
    "        \"\"\"\n",
    "        Show the results of the most recent play\n",
    "\n",
    "        Args:\n",
    "            form (str): Format of the result ('wide' or 'narrow'). Defaults to 'wide'\n",
    "        Returns:\n",
    "            pandas.DataFrame: Copy of the play results in the requested format\n",
    "        Raises:\n",
    "            ValueError: If form is not 'wide' or 'narrow'\n",
    "        \"\"\"\n",
    "        if self._play_results is None:\n",
    "            raise ValueError(\"No results to show; play the game first\")\n",
    "\n",
    "        if form == 'wide':\n",
    "            return self._play_results.copy()\n",
    "        elif form == 'narrow':\n",
    "            return self._play_results.stack().to_frame('face')\n",
    "        else:\n",
    "            raise ValueError(\"Invalid form argument. Choose 'wide' or 'narrow'\")\n",
    "```"
   ]
  },
  {
   "cell_type": "markdown",
   "id": "d930f333-cc02-4a89-a378-2ce4ba550f40",
   "metadata": {
    "tags": []
   },
   "source": [
    "```\n",
    "import pandas as pd\n",
    "from collections import Counter\n",
    "from montecarlo.game import Game\n",
    "\n",
    "class Analyzer:\n",
    "    \"\"\"\n",
    "    An Analyzer object takes the results of a single Game object and computes various descriptive statistical properties about it\n",
    "\n",
    "    Attributes:\n",
    "        _game (Game): Game object\n",
    "        _jackpot_count (int): Number of jackpots\n",
    "        _face_counts_per_roll (DataFrame): Face counts per roll\n",
    "        _combo_counts (DataFrame): Distinct combinations and their counts\n",
    "        _perm_counts (DataFrame): Distinct permutations and their counts\n",
    "    \"\"\"\n",
    "\n",
    "    def __init__(self, game):\n",
    "        \"\"\"\n",
    "        Initialize the Analyzer with a Game object.\n",
    "\n",
    "        Args:\n",
    "            game (Game): An instance of the Game class\n",
    "        Raises:\n",
    "            ValueError: If input is not a Game object\n",
    "        \"\"\"\n",
    "        if not isinstance(game, Game):\n",
    "            raise ValueError(\"Analyzer must be initialized with a Game object\")\n",
    "\n",
    "        self._game = game\n",
    "        self._jackpot_count = None\n",
    "        self._face_counts_per_roll = None\n",
    "        self._combo_counts = None\n",
    "        self._perm_counts = None\n",
    "\n",
    "    def jackpot(self):\n",
    "        \"\"\"\n",
    "        Compute the number of jackpots (all faces in a roll are identical)\n",
    "        Returns:\n",
    "            int: Number of jackpots\n",
    "        \"\"\"\n",
    "        df = self._game.show('wide')\n",
    "        self._jackpot_count = (df.nunique(axis=1) == 1).sum()\n",
    "        return self._jackpot_count\n",
    "\n",
    "    def face_counts_per_roll(self):\n",
    "        \"\"\"\n",
    "        Compute how many times each face appeared in each roll\n",
    "\n",
    "        Returns:\n",
    "            pandas.DataFrame: Rows are roll numbers, columns are faces, cells are counts\n",
    "        \"\"\"\n",
    "        df = self._game.show('wide')\n",
    "        faces = pd.unique(df.values.ravel())\n",
    "        counts = []\n",
    "\n",
    "        for _, row in df.iterrows():\n",
    "            row_count = Counter(row)\n",
    "            counts.append([row_count.get(face, 0) for face in faces])\n",
    "\n",
    "        self._face_counts_per_roll = pd.DataFrame(\n",
    "            counts,\n",
    "            columns=faces,\n",
    "            index=df.index\n",
    "        )\n",
    "        return self._face_counts_per_roll\n",
    "\n",
    "    def combo(self):\n",
    "        \"\"\"\n",
    "        Compute distinct combinations of faces rolled (order-independent) and their counts\n",
    "\n",
    "        Returns:\n",
    "            pandas.DataFrame: MultiIndex of combinations, column for counts\n",
    "        \"\"\"\n",
    "        df = self._game.show('wide')\n",
    "        combos = df.apply(lambda x: tuple(sorted(x)), axis=1)\n",
    "\n",
    "        combo_counts = combos.value_counts()\n",
    "        self._combo_counts = combo_counts.to_frame('count')\n",
    "\n",
    "        self._combo_counts.index = pd.MultiIndex.from_tuples(self._combo_counts.index)\n",
    "        self._combo_counts.index.names = [f'die_{i}' for i in range(df.shape[1])]\n",
    "\n",
    "        return self._combo_counts\n",
    "\n",
    "    def permutation(self):\n",
    "        \"\"\"\n",
    "        Compute distinct permutations of faces rolled (order-dependent) and their counts\n",
    "\n",
    "        Returns:\n",
    "            pandas.DataFrame: MultiIndex of permutations, column for counts\n",
    "        \"\"\"\n",
    "        df = self._game.show('wide')\n",
    "        perms = df.apply(lambda x: tuple(x), axis=1)\n",
    "\n",
    "        perm_counts = perms.value_counts()\n",
    "        self._perm_counts = perm_counts.to_frame('count')\n",
    "\n",
    "        self._perm_counts.index = pd.MultiIndex.from_tuples(self._perm_counts.index)\n",
    "        self._perm_counts.index.names = [f'die_{i}' for i in range(df.shape[1])]\n",
    "\n",
    "        return self._perm_counts\n",
    "```"
   ]
  },
  {
   "cell_type": "markdown",
   "id": "6377727a-8f0a-491e-9f1c-d9dc225edd35",
   "metadata": {},
   "source": [
    "## Unitest Module (2)\n",
    "\n",
    "Paste a copy of your test module below.\n",
    "\n",
    "NOTE: Paste as text, not as code. Use triple backticks to wrap your code blocks.\n",
    "\n",
    "- All methods have at least one test method (1).\n",
    "- Each method employs one of Unittest's Assert methods (1)."
   ]
  },
  {
   "cell_type": "markdown",
   "id": "de626e3b-14b8-4f0b-80b6-cb4b3076357a",
   "metadata": {},
   "source": [
    "```\n",
    "import unittest\n",
    "import numpy as np\n",
    "from montecarlo.die import Die\n",
    "\n",
    "class TestDie(unittest.TestCase):\n",
    "\n",
    "    def setUp(self):\n",
    "        self.faces = np.array(['A', 'B', 'C'])\n",
    "        self.die = Die(self.faces)\n",
    "\n",
    "    def test_initial_weights(self):\n",
    "        result = self.die.show()\n",
    "        expected_weights = [1.0, 1.0, 1.0]\n",
    "        self.assertListEqual(result['weight'].tolist(), expected_weights)\n",
    "\n",
    "    def test_change_weight(self):\n",
    "        self.die.change_weight('A', 2.5)\n",
    "        result = self.die.show()\n",
    "        self.assertEqual(result.loc['A', 'weight'], 2.5)\n",
    "\n",
    "    def test_roll_return_type(self):\n",
    "        rolls = self.die.roll(5)\n",
    "        self.assertIsInstance(rolls, list)\n",
    "        self.assertEqual(len(rolls), 5)\n",
    "\n",
    "    def test_invalid_face_change_weight(self):\n",
    "        with self.assertRaises(IndexError):\n",
    "            self.die.change_weight('Z', 2.0)\n",
    "\n",
    "    def test_invalid_weight_type(self):\n",
    "        with self.assertRaises(TypeError):\n",
    "            self.die.change_weight('A', \"heavy\")\n",
    "```"
   ]
  },
  {
   "cell_type": "markdown",
   "id": "21377d83-20d0-4305-acb3-b8c204fbe478",
   "metadata": {
    "tags": []
   },
   "source": [
    "```\n",
    "import unittest\n",
    "import numpy as np\n",
    "import pandas as pd\n",
    "from montecarlo.die import Die\n",
    "from montecarlo.game import Game\n",
    "\n",
    "class TestGame(unittest.TestCase):\n",
    "\n",
    "    def setUp(self):\n",
    "        faces = np.array(['A', 'B', 'C'])\n",
    "        die1 = Die(faces)\n",
    "        die2 = Die(faces)\n",
    "        self.game = Game([die1, die2])\n",
    "\n",
    "    def test_play_shape(self):\n",
    "        self.game.play(10)\n",
    "        result = self.game.show()\n",
    "        self.assertEqual(result.shape, (10, 2))\n",
    "\n",
    "    def test_show_wide_format(self):\n",
    "        self.game.play(5)\n",
    "        result = self.game.show('wide')\n",
    "        self.assertIsInstance(result, pd.DataFrame)\n",
    "\n",
    "    def test_show_narrow_format(self):\n",
    "        self.game.play(5)\n",
    "        result = self.game.show('narrow')\n",
    "        self.assertIsInstance(result, pd.DataFrame)\n",
    "        self.assertEqual(result.index.nlevels, 2)\n",
    "\n",
    "    def test_show_invalid_format(self):\n",
    "        self.game.play(5)\n",
    "        with self.assertRaises(ValueError):\n",
    "            self.game.show('medium')\n",
    "```"
   ]
  },
  {
   "cell_type": "markdown",
   "id": "d15f5b17-bd12-44d6-b4bc-c1511a31e6c6",
   "metadata": {},
   "source": [
    "```\n",
    "import unittest\n",
    "import numpy as np\n",
    "from montecarlo.die import Die\n",
    "from montecarlo.game import Game\n",
    "from montecarlo.analyzer import Analyzer\n",
    "import pandas as pd\n",
    "\n",
    "class TestAnalyzer(unittest.TestCase):\n",
    "\n",
    "    def setUp(self):\n",
    "        faces = np.array(['H', 'T'])\n",
    "        die1 = Die(faces)\n",
    "        die2 = Die(faces)\n",
    "        self.game = Game([die1, die2])\n",
    "        self.game.play(10)\n",
    "        self.analyzer = Analyzer(self.game)\n",
    "\n",
    "    def test_jackpot_output(self):\n",
    "        jackpots = self.analyzer.jackpot()\n",
    "        self.assertTrue(isinstance(jackpots, (int, np.integer)))\n",
    "\n",
    "    def test_face_counts_per_roll_output(self):\n",
    "        face_counts = self.analyzer.face_counts_per_roll()\n",
    "        self.assertIsInstance(face_counts, pd.DataFrame)\n",
    "        self.assertEqual(face_counts.shape[0], 10)\n",
    "\n",
    "    def test_combo_output(self):\n",
    "        combo = self.analyzer.combo()\n",
    "        self.assertIsInstance(combo, pd.DataFrame)\n",
    "\n",
    "    def test_permutation_output(self):\n",
    "        perm = self.analyzer.permutation()\n",
    "        self.assertIsInstance(perm, pd.DataFrame)\n",
    "\n",
    "    def test_invalid_analyzer_input(self):\n",
    "        with self.assertRaises(ValueError):\n",
    "            Analyzer(\"not_a_game\")\n",
    "```"
   ]
  },
  {
   "cell_type": "markdown",
   "id": "3e058d03-29bc-408f-b36d-0605b4f4b8c0",
   "metadata": {
    "tags": []
   },
   "source": [
    "## Unittest Results (3)\n",
    "\n",
    "Put a copy of the results of running your tests from the command line here.\n",
    "\n",
    "Again, paste as text using triple backticks.\n",
    "\n",
    "- All 12 specified methods return OK (3; .25 each)."
   ]
  },
  {
   "cell_type": "raw",
   "id": "54691fd0-836c-43c7-adc9-4a09d8aa9ab2",
   "metadata": {
    "tags": []
   },
   "source": [
    "wr9cn@uvahpc> pwd\n",
    "/home/wr9cn/Documents/MSDS/DS5100/Final-Project-DS5100\n",
    "wr9cn@uvahpc> export PYTHONPATH=.\n",
    "wr9cn@uvahpc> python3 -m unittest discover tests\n",
    "..............\n",
    "----------------------------------------------------------------------\n",
    "Ran 14 tests in 0.024s\n",
    "\n",
    "OK"
   ]
  },
  {
   "cell_type": "markdown",
   "id": "d9ffe8c5-eb2f-4ad1-af76-a46550e4c7ac",
   "metadata": {},
   "source": [
    "## Import (1)\n",
    "\n",
    "Import your module here. This import should refer to the code in your package directory.\n",
    "\n",
    "- Module successuflly imported (1)."
   ]
  },
  {
   "cell_type": "code",
   "execution_count": 54,
   "id": "a05dffb3-e6d6-4f78-9df4-5abd0cf74ca9",
   "metadata": {
    "tags": []
   },
   "outputs": [],
   "source": [
    "import sys\n",
    "sys.path.append('/home/wr9cn/Documents/MSDS/DS5100/Final-Project-DS5100')\n",
    "\n",
    "from montecarlo.die import Die\n",
    "from montecarlo.game import Game\n",
    "from montecarlo.analyzer import Analyzer"
   ]
  },
  {
   "cell_type": "markdown",
   "id": "f30c4842-65b1-4556-98b6-3fe1a07e1371",
   "metadata": {},
   "source": [
    "## Help Docs (4)\n",
    "\n",
    "Show your docstring documentation by applying `help()` to your imported module.\n",
    "\n",
    "- All methods have a docstring (3; .25 each).\n",
    "- All classes have a docstring (1; .33 each)."
   ]
  },
  {
   "cell_type": "code",
   "execution_count": 7,
   "id": "bf4fbf1f-9885-471c-a0a6-e9ca90e160de",
   "metadata": {
    "tags": []
   },
   "outputs": [
    {
     "name": "stdout",
     "output_type": "stream",
     "text": [
      "Help on class Die in module montecarlo.die:\n",
      "\n",
      "class Die(builtins.object)\n",
      " |  Die(faces)\n",
      " |  \n",
      " |  A die has N sides or faces\n",
      " |  Faces can be strings or numbers\n",
      " |  Weights default to 1.0 but can be changed after initialization\n",
      " |  \n",
      " |  Attributes:\n",
      " |      _die (DataFrame): Private dataframe with faces and weights\n",
      " |  \n",
      " |  Methods defined here:\n",
      " |  \n",
      " |  __init__(self, faces)\n",
      " |      Initialize a die with faces and default weights of 1.0\n",
      " |      \n",
      " |      Args:\n",
      " |          faces (numpy.ndarray): Array of distinct face values (numeric/strings)\n",
      " |      \n",
      " |      Raises:\n",
      " |          TypeError: If faces is not a numpy array\n",
      " |          ValueError: If faces are not distinct\n",
      " |  \n",
      " |  change_weight(self, face, weight)\n",
      " |      Change the weight of a single face.\n",
      " |      \n",
      " |      Args:\n",
      " |          face (str/number): Face value to change\n",
      " |          weight (float/integer): New weight (must be numeric and not negative)\n",
      " |      \n",
      " |      Raises:\n",
      " |          IndexError: When face is not found\n",
      " |          TypeError: When weight is not numeric (integer/float)\n",
      " |  \n",
      " |  roll(self, num_rolls=1)\n",
      " |      Roll the die a given number of times.\n",
      " |      \n",
      " |      Args:\n",
      " |          num_rolls (int): Number of rolls (default 1)\n",
      " |      \n",
      " |      Returns:\n",
      " |          list: Outcomes of rolls\n",
      " |  \n",
      " |  show(self)\n",
      " |      Show the die's current faces and weights\n",
      " |      \n",
      " |      Returns:\n",
      " |          pandas.DataFrame: Copy of die's faces and weights\n",
      " |  \n",
      " |  ----------------------------------------------------------------------\n",
      " |  Data descriptors defined here:\n",
      " |  \n",
      " |  __dict__\n",
      " |      dictionary for instance variables (if defined)\n",
      " |  \n",
      " |  __weakref__\n",
      " |      list of weak references to the object (if defined)\n",
      "\n",
      "Help on class Game in module montecarlo.game:\n",
      "\n",
      "class Game(builtins.object)\n",
      " |  Game(dice)\n",
      " |  \n",
      " |  A game consists of rolling one or multiple dice of the same kind multiple times\n",
      " |  \n",
      " |  Attributes:\n",
      " |      _dice (list): List of Die objects\n",
      " |      _play_results (DataFrame): Private dataframe storing the results of the most recent play\n",
      " |  \n",
      " |  Methods defined here:\n",
      " |  \n",
      " |  __init__(self, dice)\n",
      " |      Initialize the Game with a list of dice\n",
      " |      \n",
      " |      Args:\n",
      " |          dice (list): A list containing one or more Die objects\n",
      " |  \n",
      " |  play(self, num_rolls)\n",
      " |      Play the game by rolling all dice a given number of times\n",
      " |      \n",
      " |      Args:\n",
      " |          num_rolls (int): Number of times to roll the dice\n",
      " |      Saves:\n",
      " |          _play_results (DataFrame): Roll results with wide format\n",
      " |  \n",
      " |  show(self, form='wide')\n",
      " |      Show the results of the most recent play\n",
      " |      \n",
      " |      Args:\n",
      " |          form (str): Format of the result ('wide' or 'narrow'). Defaults to 'wide'\n",
      " |      Returns:\n",
      " |          pandas.DataFrame: Copy of the play results in the requested format\n",
      " |      Raises:\n",
      " |          ValueError: If form is not 'wide' or 'narrow'\n",
      " |  \n",
      " |  ----------------------------------------------------------------------\n",
      " |  Data descriptors defined here:\n",
      " |  \n",
      " |  __dict__\n",
      " |      dictionary for instance variables (if defined)\n",
      " |  \n",
      " |  __weakref__\n",
      " |      list of weak references to the object (if defined)\n",
      "\n",
      "Help on class Analyzer in module montecarlo.analyzer:\n",
      "\n",
      "class Analyzer(builtins.object)\n",
      " |  Analyzer(game)\n",
      " |  \n",
      " |  An Analyzer object takes the results of a single Game object and computes various descriptive statistical properties about it\n",
      " |  \n",
      " |  Attributes:\n",
      " |      _game (Game): Game object\n",
      " |      _jackpot_count (int): Number of jackpots\n",
      " |      _face_counts_per_roll (DataFrame): Face counts per roll\n",
      " |      _combo_counts (DataFrame): Distinct combinations and their counts\n",
      " |      _perm_counts (DataFrame): Distinct permutations and their counts\n",
      " |  \n",
      " |  Methods defined here:\n",
      " |  \n",
      " |  __init__(self, game)\n",
      " |      Initialize the Analyzer with a Game object.\n",
      " |      \n",
      " |      Args:\n",
      " |          game (Game): An instance of the Game class\n",
      " |      Raises:\n",
      " |          ValueError: If input is not a Game object\n",
      " |  \n",
      " |  combo(self)\n",
      " |      Compute distinct combinations of faces rolled (order-independent) and their counts\n",
      " |      \n",
      " |      Returns:\n",
      " |          pandas.DataFrame: MultiIndex of combinations, column for counts\n",
      " |  \n",
      " |  face_counts_per_roll(self)\n",
      " |      Compute how many times each face appeared in each roll\n",
      " |      \n",
      " |      Returns:\n",
      " |          pandas.DataFrame: Rows are roll numbers, columns are faces, cells are counts\n",
      " |  \n",
      " |  jackpot(self)\n",
      " |      Compute the number of jackpots (all faces in a roll are identical)\n",
      " |      Returns:\n",
      " |          int: Number of jackpots\n",
      " |  \n",
      " |  permutation(self)\n",
      " |      Compute distinct permutations of faces rolled (order-dependent) and their counts\n",
      " |      \n",
      " |      Returns:\n",
      " |          pandas.DataFrame: MultiIndex of permutations, column for counts\n",
      " |  \n",
      " |  ----------------------------------------------------------------------\n",
      " |  Data descriptors defined here:\n",
      " |  \n",
      " |  __dict__\n",
      " |      dictionary for instance variables (if defined)\n",
      " |  \n",
      " |  __weakref__\n",
      " |      list of weak references to the object (if defined)\n",
      "\n"
     ]
    }
   ],
   "source": [
    "help(Die)\n",
    "help(Game)\n",
    "help(Analyzer)"
   ]
  },
  {
   "cell_type": "markdown",
   "id": "a9defa84-b395-4966-bd1c-5c6c2bb7ed68",
   "metadata": {},
   "source": [
    "## `README.md` File (3)\n",
    "\n",
    "Provide link to the README.md file of your project's repo.\n",
    "\n",
    "- Metadata section or info present (1).\n",
    "- Synopsis section showing how each class is called (1). (All must be included.)\n",
    "- API section listing all classes and methods (1). (All must be included.)"
   ]
  },
  {
   "cell_type": "markdown",
   "id": "ee090b33-d593-48a0-bf35-e739cea0942c",
   "metadata": {},
   "source": [
    "URL: https://github.com/D-W-Ra/Final-Project-DS5100/blob/main/README.md"
   ]
  },
  {
   "cell_type": "markdown",
   "id": "108604c8-8827-42ef-ab59-6b25428fc0ca",
   "metadata": {},
   "source": [
    "## Successful installation (2)\n",
    "\n",
    "Put a screenshot or paste a copy of a terminal session where you successfully install your module with pip.\n",
    "\n",
    "If pasting text, use a preformatted text block to show the results.\n",
    "\n",
    "- Installed with `pip` (1).\n",
    "- Successfully installed message appears (1)."
   ]
  },
  {
   "cell_type": "raw",
   "id": "1278db6a-aa53-4e5c-a749-93a87ab239e0",
   "metadata": {},
   "source": [
    "wr9cn@uvahpc> pwd\n",
    "/home/wr9cn/Documents/MSDS/DS5100/Final-Project-DS5100\n",
    "wr9cn@uvahpc> pip install -e .\n",
    "Defaulting to user installation because normal site-packages is not writeable\n",
    "Obtaining file:///sfs/gpfs/tardis/home/wr9cn/Documents/MSDS/DS5100/Final-Project-DS5100\n",
    "  Preparing metadata (setup.py) ... done\n",
    "Requirement already satisfied: numpy in /sfs/applications/202412_build/software/standard/core/miniforge/24.3.0-py3.11/lib/python3.11/site-packages (from montecarlo_simulator==0.1) (1.24.3)\n",
    "Requirement already satisfied: pandas in /sfs/applications/202412_build/software/standard/core/miniforge/24.3.0-py3.11/lib/python3.11/site-packages (from montecarlo_simulator==0.1) (1.5.3)\n",
    "Requirement already satisfied: python-dateutil>=2.8.1 in /sfs/applications/202412_build/software/standard/core/miniforge/24.3.0-py3.11/lib/python3.11/site-packages (from pandas->montecarlo_simulator==0.1) (2.9.0)\n",
    "Requirement already satisfied: pytz>=2020.1 in /sfs/applications/202412_build/software/standard/core/miniforge/24.3.0-py3.11/lib/python3.11/site-packages (from pandas->montecarlo_simulator==0.1) (2024.1)\n",
    "Requirement already satisfied: six>=1.5 in /sfs/applications/202412_build/software/standard/core/miniforge/24.3.0-py3.11/lib/python3.11/site-packages (from python-dateutil>=2.8.1->pandas->montecarlo_simulator==0.1) (1.16.0)\n",
    "Installing collected packages: montecarlo_simulator\n",
    "  Running setup.py develop for montecarlo_simulator\n",
    "Successfully installed montecarlo_simulator-0.1"
   ]
  },
  {
   "cell_type": "markdown",
   "id": "7c44695d-d1b3-4edf-9f94-e64d7446f199",
   "metadata": {},
   "source": [
    "# Scenarios\n",
    "\n",
    "Use code blocks to perform the tasks for each scenario.\n",
    "\n",
    "Be sure the outputs are visible before submitting."
   ]
  },
  {
   "cell_type": "markdown",
   "id": "e2479eae-6fc9-44cd-b8d7-9b22cb501f2a",
   "metadata": {
    "tags": []
   },
   "source": [
    "## Scenario 1: A 2-headed Coin (9)\n",
    "\n",
    "Task 1. Create a fair coin (with faces $H$ and $T$) and one unfair coin in which one of the faces has a weight of $5$ and the others $1$.\n",
    "\n",
    "- Fair coin created (1).\n",
    "- Unfair coin created with weight as specified (1)."
   ]
  },
  {
   "cell_type": "code",
   "execution_count": 28,
   "id": "55ce498e-c75f-4425-9e3e-b635bd6cd9e1",
   "metadata": {},
   "outputs": [
    {
     "name": "stdout",
     "output_type": "stream",
     "text": [
      "Fair Coin:\n",
      "      weight\n",
      "face        \n",
      "H        1.0\n",
      "T        1.0\n",
      "\n",
      "Unfair Coin:\n",
      "      weight\n",
      "face        \n",
      "H        5.0\n",
      "T        1.0\n"
     ]
    }
   ],
   "source": [
    "import numpy as np\n",
    "from montecarlo.die import Die\n",
    "\n",
    "# Create a fair coin\n",
    "faces = np.array(['H', 'T'])\n",
    "fair_coin = Die(faces)    # default weights are 1.0\n",
    "\n",
    "# Show the fair coin's state\n",
    "print(\"Fair Coin:\")\n",
    "print(fair_coin.show())\n",
    "\n",
    "# Create an unfair coin\n",
    "unfair_coin = Die(faces)\n",
    "unfair_coin.change_weight('H', 5.0)  # Give 'H' a weight of 5.0\n",
    "# (T stays at default weight 1.0)\n",
    "\n",
    "# Show the unfair coin's state\n",
    "print(\"\\nUnfair Coin:\")\n",
    "print(unfair_coin.show())"
   ]
  },
  {
   "cell_type": "markdown",
   "id": "02b272ab-99da-4b6e-ac2a-555b73e09c07",
   "metadata": {},
   "source": [
    "Task 2. Play a game of $1000$ flips with two fair dice.\n",
    "\n",
    "- Play method called correclty and without error (1)."
   ]
  },
  {
   "cell_type": "code",
   "execution_count": 29,
   "id": "65c92601-d32d-4326-b215-74953aee27f2",
   "metadata": {},
   "outputs": [
    {
     "name": "stdout",
     "output_type": "stream",
     "text": [
      "Sample of game results:\n",
      "             0  1\n",
      "roll_number      \n",
      "0            T  T\n",
      "1            H  H\n",
      "2            T  T\n",
      "3            H  H\n",
      "4            T  H\n"
     ]
    }
   ],
   "source": [
    "from montecarlo.game import Game\n",
    "\n",
    "# Set up two fair dice (coins)\n",
    "faces = np.array(['H', 'T'])\n",
    "\n",
    "# Create two fair dice\n",
    "fair_coin1 = Die(faces)\n",
    "fair_coin2 = Die(faces)\n",
    "\n",
    "# Create a Game with the two fair coins\n",
    "game = Game([fair_coin1, fair_coin2])\n",
    "\n",
    "# Play the game with 1000 rolls\n",
    "game.play(1000)\n",
    "\n",
    "# Show a few results to confirm\n",
    "print(\"Sample of game results:\")\n",
    "print(game.show().head())"
   ]
  },
  {
   "cell_type": "markdown",
   "id": "7d9c3dc8-22c1-4cae-81fb-d68d774a05d1",
   "metadata": {},
   "source": [
    "Task 3. Play another game (using a new Game object) of $1000$ flips, this time using two unfair dice and one fair die. For the second unfair die, you can use the same die object twice in the list of dice you pass to the Game object.\n",
    "\n",
    "- New game object created (1).\n",
    "- Play method called correclty and without error (1)."
   ]
  },
  {
   "cell_type": "code",
   "execution_count": 30,
   "id": "d4098bed-1eb2-4084-8d5e-9fda07c3be43",
   "metadata": {},
   "outputs": [
    {
     "name": "stdout",
     "output_type": "stream",
     "text": [
      "Sample of new game results:\n",
      "             0  1  2\n",
      "roll_number         \n",
      "0            H  H  T\n",
      "1            H  H  H\n",
      "2            T  T  H\n",
      "3            T  T  H\n",
      "4            H  H  H\n"
     ]
    }
   ],
   "source": [
    "# Reuse the unfair_coin twice and fair_coin once\n",
    "game2 = Game([unfair_coin, unfair_coin, fair_coin])\n",
    "\n",
    "# Play the new game with 1000 flips\n",
    "game2.play(1000)\n",
    "\n",
    "# Show a few results to confirm\n",
    "print(\"Sample of new game results:\")\n",
    "print(game2.show().head())"
   ]
  },
  {
   "cell_type": "markdown",
   "id": "f690ebfc-fe71-4eb2-976d-7ac80ca6c23f",
   "metadata": {},
   "source": [
    "Task 4. For each game, use an Analyzer object to determine the raw frequency of jackpots — i.e. getting either all $H$s or all $T$s.\n",
    "\n",
    "- Analyzer objecs instantiated for both games (1).\n",
    "- Raw frequencies reported for both (1)."
   ]
  },
  {
   "cell_type": "code",
   "execution_count": 32,
   "id": "b26b8b7e-3be7-4476-a9a4-37d97536729e",
   "metadata": {},
   "outputs": [
    {
     "name": "stdout",
     "output_type": "stream",
     "text": [
      "# of jackpots for the fair coins game: 488\n",
      "# of jackpots for the unfair/fair coins game: 361\n"
     ]
    }
   ],
   "source": [
    "from montecarlo.analyzer import Analyzer\n",
    "\n",
    "analyzer1 = Analyzer(game)\n",
    "jackpots1 = analyzer1.jackpot()\n",
    "\n",
    "print(f\"# of jackpots for the fair coins game: {jackpots1}\")\n",
    "\n",
    "analyzer2 = Analyzer(game2)\n",
    "jackpots2 = analyzer2.jackpot()\n",
    "\n",
    "print(f\"# of jackpots for the unfair/fair coins game: {jackpots2}\")"
   ]
  },
  {
   "cell_type": "markdown",
   "id": "b73d233c-445e-40cd-8858-0c5e1f097105",
   "metadata": {},
   "source": [
    "Task 5. For each analyzer, compute relative frequency as the number of jackpots over the total number of rolls.\n",
    "\n",
    "- Both relative frequencies computed (1)."
   ]
  },
  {
   "cell_type": "code",
   "execution_count": 33,
   "id": "9a96b31b-1b9d-496e-be3e-4bf83c45ec3a",
   "metadata": {},
   "outputs": [
    {
     "name": "stdout",
     "output_type": "stream",
     "text": [
      "Relative frequency of jackpots (fair coins game): 0.4880\n",
      "Relative frequency of jackpots (unfair/fair coins game): 0.3610\n"
     ]
    }
   ],
   "source": [
    "total_rolls = 1000\n",
    "\n",
    "relative_freq1 = jackpots1 / total_rolls\n",
    "print(f\"Relative frequency of jackpots (fair coins game): {relative_freq1:.4f}\")\n",
    "\n",
    "relative_freq2 = jackpots2 / total_rolls\n",
    "print(f\"Relative frequency of jackpots (unfair/fair coins game): {relative_freq2:.4f}\")"
   ]
  },
  {
   "cell_type": "markdown",
   "id": "a6e1e734-7f5c-4721-8ba4-2f3a424cf984",
   "metadata": {},
   "source": [
    "Task 6. Show your results, comparing the two relative frequencies, in a simple bar chart.\n",
    "\n",
    "- Bar chart plotted and correct (1)."
   ]
  },
  {
   "cell_type": "code",
   "execution_count": 34,
   "id": "473fa67c-aa53-4aa3-a0b7-e8772b3f6ed3",
   "metadata": {},
   "outputs": [
    {
     "data": {
      "image/png": "[encoded data removed]",
      "text/plain": [
       "<Figure size 600x400 with 1 Axes>"
      ]
     },
     "metadata": {},
     "output_type": "display_data"
    }
   ],
   "source": [
    "import matplotlib.pyplot as plt\n",
    "\n",
    "labels = ['Fair Coins Game', 'Unfair/Fair Coins Game']\n",
    "\n",
    "# Relative frequencies calculated earlier\n",
    "frequencies = [relative_freq1, relative_freq2]\n",
    "\n",
    "plt.figure(figsize=(6,4))\n",
    "plt.bar(labels, frequencies)\n",
    "plt.title('Relative Frequency of Jackpots')\n",
    "plt.ylabel('Relative Frequency')\n",
    "plt.ylim(0, 1)  # since relative frequency is between 0 and 1\n",
    "plt.show()"
   ]
  },
  {
   "cell_type": "markdown",
   "id": "725cfa5b-e4b7-47c9-86aa-8d9e1fe6c8c7",
   "metadata": {},
   "source": [
    "## Scenario 2: A 6-sided Die (9)\n",
    "\n",
    "Task 1. Create three dice, each with six sides having the faces 1 through 6.\n",
    "\n",
    "- Three die objects created (1)."
   ]
  },
  {
   "cell_type": "code",
   "execution_count": 35,
   "id": "6a8bc611-325a-4e05-88d5-980e0a2cf7c5",
   "metadata": {},
   "outputs": [
    {
     "name": "stdout",
     "output_type": "stream",
     "text": [
      "Die 1:\n",
      "      weight\n",
      "face        \n",
      "1        1.0\n",
      "2        1.0\n",
      "3        1.0\n",
      "4        1.0\n",
      "5        1.0\n",
      "6        1.0\n",
      "\n",
      "Die 2:\n",
      "      weight\n",
      "face        \n",
      "1        1.0\n",
      "2        1.0\n",
      "3        1.0\n",
      "4        1.0\n",
      "5        1.0\n",
      "6        1.0\n",
      "\n",
      "Die 3:\n",
      "      weight\n",
      "face        \n",
      "1        1.0\n",
      "2        1.0\n",
      "3        1.0\n",
      "4        1.0\n",
      "5        1.0\n",
      "6        1.0\n"
     ]
    }
   ],
   "source": [
    "import numpy as np\n",
    "\n",
    "# Faces from 1 to 6\n",
    "faces = np.array([1, 2, 3, 4, 5, 6])\n",
    "\n",
    "# Create three dice\n",
    "die1 = Die(faces)\n",
    "die2 = Die(faces)\n",
    "die3 = Die(faces)\n",
    "\n",
    "# Show each die's faces and weights\n",
    "print(\"Die 1:\")\n",
    "print(die1.show())\n",
    "\n",
    "print(\"\\nDie 2:\")\n",
    "print(die2.show())\n",
    "\n",
    "print(\"\\nDie 3:\")\n",
    "print(die3.show())"
   ]
  },
  {
   "cell_type": "markdown",
   "id": "2ed3ad26-fbe9-43bd-9ad7-f683a4191d12",
   "metadata": {},
   "source": [
    "Task 2. Convert one of the dice to an unfair one by weighting the face $6$ five times more than the other weights (i.e. it has weight of 5 and the others a weight of 1 each).\n",
    "\n",
    "- Unfair die created with proper call to weight change method (1)."
   ]
  },
  {
   "cell_type": "code",
   "execution_count": 36,
   "id": "e33dd18f-7f90-456d-a680-61c08a328e21",
   "metadata": {},
   "outputs": [
    {
     "name": "stdout",
     "output_type": "stream",
     "text": [
      "Updated Die 1 (Unfair Die):\n",
      "      weight\n",
      "face        \n",
      "1        1.0\n",
      "2        1.0\n",
      "3        1.0\n",
      "4        1.0\n",
      "5        1.0\n",
      "6        5.0\n"
     ]
    }
   ],
   "source": [
    "# Change the weight of face 6 to 5.0\n",
    "die1.change_weight(6, 5.0)\n",
    "\n",
    "# Show the updated die1\n",
    "print(\"Updated Die 1 (Unfair Die):\")\n",
    "print(die1.show())"
   ]
  },
  {
   "cell_type": "markdown",
   "id": "7f6c062a-4c5b-45b9-96b8-76a0354c7e47",
   "metadata": {},
   "source": [
    "Task 3. Convert another of the dice to be unfair by weighting the face $1$ five times more than the others.\n",
    "\n",
    "- Unfair die created with proper call to weight change method (1)."
   ]
  },
  {
   "cell_type": "code",
   "execution_count": 37,
   "id": "01133a4e-6b06-4246-8d90-8e6d6995be51",
   "metadata": {},
   "outputs": [
    {
     "name": "stdout",
     "output_type": "stream",
     "text": [
      "Updated Die 2 (Unfair Die):\n",
      "      weight\n",
      "face        \n",
      "1        5.0\n",
      "2        1.0\n",
      "3        1.0\n",
      "4        1.0\n",
      "5        1.0\n",
      "6        1.0\n"
     ]
    }
   ],
   "source": [
    "# Change the weight of face 1 to 5.0\n",
    "die2.change_weight(1, 5.0)\n",
    "\n",
    "# Show the updated die2\n",
    "print(\"Updated Die 2 (Unfair Die):\")\n",
    "print(die2.show())"
   ]
  },
  {
   "cell_type": "markdown",
   "id": "f0ed31cb-0a3c-4eb2-b85e-6ed6b2eb6e58",
   "metadata": {},
   "source": [
    "Task 4. Play a game of $10000$ rolls with $5$ fair dice.\n",
    "\n",
    "- Game class properly instantiated (1). \n",
    "- Play method called properly (1)."
   ]
  },
  {
   "cell_type": "code",
   "execution_count": 38,
   "id": "e92395a4-9ed8-4cb0-8c85-38768a784ffc",
   "metadata": {},
   "outputs": [
    {
     "name": "stdout",
     "output_type": "stream",
     "text": [
      "Sample of 10,000 roll fair dice game:\n",
      "             0  1  2  3  4\n",
      "roll_number               \n",
      "0            3  4  3  4  2\n",
      "1            1  5  5  5  2\n",
      "2            4  5  5  3  6\n",
      "3            4  2  4  6  4\n",
      "4            1  6  5  3  4\n"
     ]
    }
   ],
   "source": [
    "\n",
    "fair_die1 = Die(faces)\n",
    "fair_die2 = Die(faces)\n",
    "fair_die3 = Die(faces)\n",
    "fair_die4 = Die(faces)\n",
    "fair_die5 = Die(faces)\n",
    "\n",
    "game3 = Game([fair_die1, fair_die2, fair_die3, fair_die4, fair_die5])\n",
    "\n",
    "game3.play(10000)\n",
    "\n",
    "print(\"Sample of 10,000 roll fair dice game:\")\n",
    "print(game3.show().head())"
   ]
  },
  {
   "cell_type": "markdown",
   "id": "7814b402-46a4-40e5-8141-20e05c3e646b",
   "metadata": {},
   "source": [
    "Task 5. Play another game of $10000$ rolls, this time with $2$ unfair dice, one as defined in steps #2 and #3 respectively, and $3$ fair dice.\n",
    "\n",
    "- Game class properly instantiated (1). \n",
    "- Play method called properly (1)."
   ]
  },
  {
   "cell_type": "code",
   "execution_count": 39,
   "id": "7cd58fba-b2a5-4d5d-bc6d-2a7a68d18c4f",
   "metadata": {},
   "outputs": [
    {
     "name": "stdout",
     "output_type": "stream",
     "text": [
      "Sample of 10,000-roll unfair/fair dice game:\n",
      "             0  1  2  3  4\n",
      "roll_number               \n",
      "0            6  1  1  5  5\n",
      "1            2  1  5  6  6\n",
      "2            6  1  6  5  6\n",
      "3            4  1  5  6  5\n",
      "4            5  4  1  1  5\n"
     ]
    }
   ],
   "source": [
    "# Create 3 new fair dice\n",
    "fair_die6 = Die(faces)\n",
    "fair_die7 = Die(faces)\n",
    "fair_die8 = Die(faces)\n",
    "\n",
    "# Create a Game with 2 unfair dice and 3 fair dice\n",
    "game4 = Game([die1, die2, fair_die6, fair_die7, fair_die8])\n",
    "\n",
    "game4.play(10000)\n",
    "\n",
    "print(\"Sample of 10,000-roll unfair/fair dice game:\")\n",
    "print(game4.show().head())"
   ]
  },
  {
   "cell_type": "markdown",
   "id": "7b6cd372-2bb8-4df8-ade1-8f48bc300955",
   "metadata": {},
   "source": [
    "Task 6. For each game, use an Analyzer object to determine the relative frequency of jackpots and show your results, comparing the two relative frequencies, in a simple bar chart.\n",
    "\n",
    "- Jackpot methods called (1).\n",
    "- Graph produced (1)."
   ]
  },
  {
   "cell_type": "code",
   "execution_count": 40,
   "id": "bbdcf695-8937-406e-9b53-aa0b9ee3c59a",
   "metadata": {},
   "outputs": [
    {
     "name": "stdout",
     "output_type": "stream",
     "text": [
      "Relative frequency of jackpots (5 fair dice): 0.0008\n",
      "Relative frequency of jackpots (2 unfair + 3 fair dice): 0.0002\n"
     ]
    },
    {
     "data": {
      "image/png": "[encoded data removed]",
      "text/plain": [
       "<Figure size 600x400 with 1 Axes>"
      ]
     },
     "metadata": {},
     "output_type": "display_data"
    }
   ],
   "source": [
    "\n",
    "# Analyze the first game (5 fair dice)\n",
    "analyzer3 = Analyzer(game3)\n",
    "jackpots3 = analyzer3.jackpot()\n",
    "\n",
    "# Analyze the second game (2 unfair dice + 3 fair dice)\n",
    "analyzer4 = Analyzer(game4)\n",
    "jackpots4 = analyzer4.jackpot()\n",
    "\n",
    "total_rolls = 10000\n",
    "\n",
    "relative_freq3 = jackpots3 / total_rolls\n",
    "relative_freq4 = jackpots4 / total_rolls\n",
    "\n",
    "print(f\"Relative frequency of jackpots (5 fair dice): {relative_freq3:.4f}\")\n",
    "print(f\"Relative frequency of jackpots (2 unfair + 3 fair dice): {relative_freq4:.4f}\")\n",
    "\n",
    "import matplotlib.pyplot as plt\n",
    "\n",
    "labels = ['5 Fair Dice', '2 Unfair + 3 Fair Dice']\n",
    "frequencies = [relative_freq3, relative_freq4]\n",
    "\n",
    "plt.figure(figsize=(6,4))\n",
    "plt.bar(labels, frequencies)\n",
    "plt.title('Relative Frequency of Jackpots')\n",
    "plt.ylabel('Relative Frequency')\n",
    "plt.ylim(0, 0.002)\n",
    "plt.show()"
   ]
  },
  {
   "cell_type": "markdown",
   "id": "9f04e9be-8fcf-4ea4-a391-6614608285f8",
   "metadata": {},
   "source": [
    "## Scenario 3: Letters of the Alphabet (7)\n",
    "\n",
    "Task 1. Create a \"die\" of letters from $A$ to $Z$ with weights based on their frequency of usage as found in the data file `english_letters.txt`. Use the frequencies (i.e. raw counts) as weights.\n",
    "\n",
    "- Die correctly instantiated with source file data (1).\n",
    "- Weights properly applied using weight setting method (1)."
   ]
  },
  {
   "cell_type": "code",
   "execution_count": 41,
   "id": "b0ceb771-3cdf-4d8f-8c2c-020806bbb909",
   "metadata": {},
   "outputs": [
    {
     "name": "stdout",
     "output_type": "stream",
     "text": [
      "Letter Die (Faces and Weights):\n",
      "           weight\n",
      "face             \n",
      "E     529117365.0\n",
      "T     390965105.0\n",
      "A     374061888.0\n",
      "O     326627740.0\n",
      "I     320410057.0\n",
      "N     313720540.0\n",
      "S     294300210.0\n",
      "R     277000841.0\n",
      "H     216768975.0\n",
      "L     183996130.0\n",
      "D     169330528.0\n",
      "C     138416451.0\n",
      "U     117295780.0\n",
      "M     110504544.0\n",
      "F      95422055.0\n",
      "G      91258980.0\n",
      "P      90376747.0\n",
      "W      79843664.0\n",
      "Y      75294515.0\n",
      "B      70195826.0\n",
      "V      46337161.0\n",
      "K      35373464.0\n",
      "J       9613410.0\n",
      "X       8369915.0\n",
      "Z       4975847.0\n",
      "Q       4550166.0\n"
     ]
    }
   ],
   "source": [
    "faces = []\n",
    "weights = []\n",
    "\n",
    "with open('/home/wr9cn/Documents/MSDS/DS5100/Final-Project-DS5100/english_letters.txt', 'r') as file:\n",
    "    for line in file:\n",
    "        parts = line.strip().split()\n",
    "        if len(parts) == 2:\n",
    "            letter, freq = parts\n",
    "            faces.append(letter.upper())  # Ensure uppercase\n",
    "            weights.append(float(freq))   # Ensure numeric weight\n",
    "\n",
    "faces_array = np.array(faces)\n",
    "letter_die = Die(faces_array)\n",
    "\n",
    "# Set the weights properly\n",
    "for letter, weight in zip(faces, weights):\n",
    "    letter_die.change_weight(letter, weight)\n",
    "\n",
    "print(\"Letter Die (Faces and Weights):\")\n",
    "print(letter_die.show())"
   ]
  },
  {
   "cell_type": "markdown",
   "id": "88e2e14a-6223-470a-a2c8-bca1120d7a5b",
   "metadata": {},
   "source": [
    "Task 2. Play a game involving $4$ of these dice with $1000$ rolls.\n",
    "\n",
    "- Game play method properly called (1)."
   ]
  },
  {
   "cell_type": "code",
   "execution_count": 51,
   "id": "2ae087cc-936d-4f1e-bddb-a7c179d139e0",
   "metadata": {},
   "outputs": [
    {
     "name": "stdout",
     "output_type": "stream",
     "text": [
      "Sample of 1000-roll letter dice game:\n",
      "             0  1  2  3\n",
      "roll_number            \n",
      "0            I  N  B  A\n",
      "1            L  R  N  S\n",
      "2            O  R  L  N\n",
      "3            A  P  E  N\n",
      "4            H  U  S  N\n"
     ]
    }
   ],
   "source": [
    "game5 = Game([letter_die, letter_die, letter_die, letter_die])\n",
    "\n",
    "game5.play(1000)\n",
    "\n",
    "print(\"Sample of 1000-roll letter dice game:\")\n",
    "print(game5.show().head())"
   ]
  },
  {
   "cell_type": "markdown",
   "id": "3b9ff800-bf1f-4f66-9d7f-ff57a648e9f0",
   "metadata": {},
   "source": [
    "Task 3. Determine how many permutations in your results are actual English words, based on the vocabulary found in `scrabble_words.txt`.\n",
    "\n",
    "- Use permutation method (1).\n",
    "- Get count as difference between permutations and vocabulary (1)."
   ]
  },
  {
   "cell_type": "code",
   "execution_count": 52,
   "id": "ed1c7fa0-cfa3-4cf4-9fd0-9f84b86b0f64",
   "metadata": {},
   "outputs": [
    {
     "name": "stdout",
     "output_type": "stream",
     "text": [
      "# of permutations that form real English words: 52\n"
     ]
    }
   ],
   "source": [
    "analyzer5 = Analyzer(game5)\n",
    "\n",
    "# Get all permutations rolled\n",
    "permutations_df = analyzer5.permutation()\n",
    "\n",
    "vocabulary = set()\n",
    "\n",
    "with open('/home/wr9cn/Documents/MSDS/DS5100/Final-Project-DS5100/scrabble_words.txt', 'r') as file:\n",
    "    for line in file:\n",
    "        word = line.strip().upper()  # Make sure it's uppercase like faces\n",
    "        if len(word) == 4:\n",
    "            vocabulary.add(word)\n",
    "\n",
    "matched_words = 0\n",
    "\n",
    "for perm in permutations_df.index:\n",
    "    word = ''.join(perm)\n",
    "    if word in vocabulary:\n",
    "        matched_words += permutations_df.loc[perm, 'count']\n",
    "\n",
    "print(f\"# of permutations that form real English words: {matched_words}\")"
   ]
  },
  {
   "cell_type": "markdown",
   "id": "fcf068cf-381a-4b3e-ac3a-0510eb4dbdb0",
   "metadata": {},
   "source": [
    "Task 4. Repeat steps #2 and #3, this time with $5$ dice. How many actual words does this produce? Which produces more?\n",
    "\n",
    "- Successfully repreats steps (1).\n",
    "- Identifies parameter with most found words (1)."
   ]
  },
  {
   "cell_type": "code",
   "execution_count": 53,
   "id": "7c9d6c9e-582c-4440-a524-09d40df3a983",
   "metadata": {
    "tags": []
   },
   "outputs": [
    {
     "name": "stdout",
     "output_type": "stream",
     "text": [
      "# of permutations that form real English 5-letter words: 7\n"
     ]
    }
   ],
   "source": [
    "game6 = Game([letter_die, letter_die, letter_die, letter_die, letter_die])\n",
    "\n",
    "game6.play(1000)\n",
    "\n",
    "analyzer6 = Analyzer(game6)\n",
    "\n",
    "permutations_df_5dice = analyzer6.permutation()\n",
    "\n",
    "vocabulary5 = set()\n",
    "\n",
    "with open('/home/wr9cn/Documents/MSDS/DS5100/Final-Project-DS5100/scrabble_words.txt', 'r') as file:\n",
    "    for line in file:\n",
    "        word = line.strip().upper()\n",
    "        if len(word) == 5:\n",
    "            vocabulary5.add(word)\n",
    "\n",
    "matched_words_5dice = 0\n",
    "\n",
    "for perm in permutations_df_5dice.index:\n",
    "    word = ''.join(perm)\n",
    "    if word in vocabulary5:\n",
    "        matched_words_5dice += permutations_df_5dice.loc[perm, 'count']\n",
    "\n",
    "print(f\"# of permutations that form real English 5-letter words: {matched_words_5dice}\")"
   ]
  }
 ],
 "metadata": {
  "kernelspec": {
   "display_name": "Python 3 (ipykernel)",
   "language": "python",
   "name": "python3"
  },
  "language_info": {
   "codemirror_mode": {
    "name": "ipython",
    "version": 3
   },
   "file_extension": ".py",
   "mimetype": "text/x-python",
   "name": "python",
   "nbconvert_exporter": "python",
   "pygments_lexer": "ipython3",
   "version": "3.11.4"
  },
  "toc-autonumbering": true,
  "widgets": {
   "application/vnd.jupyter.widget-state+json": {
    "state": {},
    "version_major": 2,
    "version_minor": 0
   }
  }
 },
 "nbformat": 4,
 "nbformat_minor": 5
}
